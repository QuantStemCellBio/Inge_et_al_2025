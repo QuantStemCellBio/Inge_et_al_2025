{
 "cells": [
  {
   "cell_type": "markdown",
   "id": "64f0abe0-b508-4f1a-863b-f6ec30e802e5",
   "metadata": {},
   "source": [
    "# Figure 2"
   ]
  },
  {
   "cell_type": "markdown",
   "id": "9a9ec4e4-202d-44ad-a49e-0c7dd49de14f",
   "metadata": {},
   "source": [
    "This script contains the analysis for the Markov modelling in Figure 2.  \n"
   ]
  },
  {
   "cell_type": "markdown",
   "id": "d2bea28b-396e-450d-9c25-cfe0b5aa6381",
   "metadata": {},
   "source": [
    "### Load Modules"
   ]
  },
  {
   "cell_type": "code",
   "execution_count": 1,
   "id": "f7437227-e450-48b5-ac4b-a5b1a8f8ffd4",
   "metadata": {},
   "outputs": [],
   "source": [
    "from markov_simulator_dynamic_14March23_Jax_deep import Markov_fit\n",
    "from markov_simulator_dynamic_14March23_Jax_deep import make_extent\n",
    "import Figure_2_Plotting_functions as PF\n",
    " \n",
    "\n",
    "import os\n",
    "import pandas as pd\n",
    "import seaborn as sns\n",
    "import pickle as pickle\n",
    "import glob as glob\n",
    "import numpy as np\n",
    "import matplotlib.pyplot as plt\n",
    "from matplotlib.colors import LinearSegmentedColormap\n",
    "\n",
    "ingeo_colours = [\"#0077BB\", \"#33BBEE\", \"#009988\", \"#EE7733\", \"#CC3311\", \"#EE3377\", \"#BBBBBB\", \"#5D55A4\"]\n"
   ]
  },
  {
   "cell_type": "markdown",
   "id": "e9854854-034c-4f48-bba4-ebfe7ab5371b",
   "metadata": {},
   "source": [
    "## Figure 2A-B - Schematics of hypothesis and modelling pipeline. \n",
    "\n",
    "Schematics were made in illustrator.\n",
    "\n",
    "Schematics can be found at: `Figure_2\\All_panels\\Figure_2A` and `Figure_2\\All_panels\\Figure_2B`."
   ]
  },
  {
   "cell_type": "markdown",
   "id": "813da413-8a56-435f-b026-937217a44bd0",
   "metadata": {},
   "source": [
    "## Running Markov modelling pipeline.\n",
    "\n",
    "The modelling was performed using a jax deep learning framework specified in `markov_simulator_dynamic_14March23_Jax_deep.py`.  \n",
    "\n",
    "**Quick Start:**\n",
    "\n",
    " - To run the modelling pipeline requires a `data` folder containing cell fate measurements `proportions.csv` and signalling conditions.  \n",
    "\n",
    " - Results are saved to a `results` folder. \n",
    "\n",
    " - Hypothesis of potential topologies is contained within a `Hypothesis.csv` folder.\n",
    "\n",
    " - This is contained within an overal simulation folder e.g. `DRonly` (Dose response only fitting).\n",
    " \n",
    " - Running `Create_Bash.ipynb` generates a series of bash files containing parameters for all models. \n",
    " \n",
    " - Key parameters to adjust are `proportion_weight` and `switching_weight` adjusted to contribution of two datasets (e.g. `\"proportion_weight\":1`)\n",
    " \n",
    " - `Launch.sh` is used to launch hypothesis files e.g. (`H0.sh`) to HPC cluster.\n"
   ]
  },
  {
   "cell_type": "markdown",
   "id": "5547027c-03aa-44d5-b3b1-680157a7eb6a",
   "metadata": {},
   "source": [
    "## Import modelling data "
   ]
  },
  {
   "cell_type": "markdown",
   "id": "37febf40-3bfc-440b-81b0-8186eddeb860",
   "metadata": {},
   "source": [
    "Importing all modelling data for generating plots in Figure 2."
   ]
  },
  {
   "cell_type": "code",
   "execution_count": 2,
   "id": "ae86466b-a8bc-41f4-977b-891acd7cc7f8",
   "metadata": {},
   "outputs": [],
   "source": [
    "results = glob.glob(os.path.join(\"Figure_2C-G_S2B-H_Modelling_fits/DRonly/results/*\"))\n",
    "\n",
    "df = PF.import_modelling_residuals(results)\n",
    "\n",
    "###################################################################\n",
    "### Select best fits for each topology across initialisations #####\n",
    "###################################################################\n",
    "\n",
    "df_best = PF.select_best_residuals(df)\n",
    "\n",
    "#############################################################################\n",
    "### Import hypothesis and calculate number of parameters for correction #####\n",
    "#############################################################################\n",
    "\n",
    "hypo_ = pd.read_csv(\"Figure_2C-G_S2B-H_Modelling_fits/DRonly/Hypothesis.csv\")\n",
    "hypo_['hyp'] = hypo_['Topology_Name']\n",
    "hypo = hypo_[['Topology_number', 'hyp','Convergence_dir']]\n",
    "\n",
    "hypo_['par_num'] = [len(i)*5 for i in hypo_['Transitions'].str.split(',')]\n",
    "num_params_dict = dict(zip(hypo_['hyp'], hypo_['par_num']))"
   ]
  },
  {
   "cell_type": "markdown",
   "id": "c4e68467-791f-4371-8649-19c1a376f3a2",
   "metadata": {},
   "source": [
    "## Calculate Akaike information criterion (AIC) \n",
    "\n",
    "AIC is calculated as: `2 * num_params + num_observations * np.log(rss / num_observations)`\n",
    "\n"
   ]
  },
  {
   "cell_type": "code",
   "execution_count": 3,
   "id": "a82234b1-66a0-4687-9edb-b775eaef469a",
   "metadata": {},
   "outputs": [],
   "source": [
    "# Group by model hypothesis and calculate AIC for each model\n",
    "aic_results = []\n",
    "\n",
    "for hyp, group in df_best.groupby('hyp'):\n",
    "    rss = group['residual'].values\n",
    "    num_observations = 25\n",
    "    num_params = num_params_dict.get(hyp, None)  # Get number of parameters for the model hypothesis\n",
    "\n",
    "    if num_params is not None:\n",
    "        aic_value = PF.calculate_aic(rss, num_params, num_observations)\n",
    "        aic_results.append({'hyp': hyp, 'AIC': aic_value[0], 'N_params': num_params})\n",
    "\n",
    "# Convert results to DataFrame for easy viewing\n",
    "aic_df = pd.DataFrame(aic_results)\n",
    "\n",
    "aic_df[\"Topology_Name\"] = aic_df[\"hyp\"]\n",
    "df_best[\"Topology_Name\"] = df_best[\"hyp\"]\n",
    "\n",
    "df_best = df_best[['Topology_Name','residual']].merge(aic_df, on='Topology_Name', how='left')\n",
    "df_best = hypo_[['Topology_Name','Topology_number']].merge(df_best, on='Topology_Name', how='left')\n",
    "\n",
    "# Removing 'T' from each element\n",
    "stripped_list = [item.lstrip('T') for item in df_best['Topology_number']]\n",
    "number_list = [int(num) for num in stripped_list]\n",
    "\n",
    "df_best['Topology_num'] = number_list\n",
    "\n",
    "df_best = df_best.loc[df_best['Topology_num']<=38]"
   ]
  },
  {
   "cell_type": "markdown",
   "id": "f4918dca-a55a-4567-ac40-95eadd77fe70",
   "metadata": {},
   "source": [
    "## Figure 2C - Ranking best fits by AIC:"
   ]
  },
  {
   "cell_type": "code",
   "execution_count": 4,
   "id": "404a62c7-22e2-4ca5-83b7-ec4d667825f0",
   "metadata": {},
   "outputs": [
    {
     "data": {
      "text/plain": [
       "Text(0, 0.5, 'AIC')"
      ]
     },
     "execution_count": 4,
     "metadata": {},
     "output_type": "execute_result"
    },
    {
     "data": {
      "image/png": "[encoded data removed]",
      "text/plain": [
       "<Figure size 800x200 with 1 Axes>"
      ]
     },
     "metadata": {
      "needs_background": "light"
     },
     "output_type": "display_data"
    }
   ],
   "source": [
    "df_best = df_best.sort_values('AIC', ascending=False)\n",
    "df_best['hit'] = 'not hit'\n",
    "# Set last 5 rows to \"hit\"\n",
    "df_best.loc[df_best.tail(5).index, 'hit'] = 'hit'\n",
    "\n",
    "plt.figure(figsize=(8,2), dpi=100)\n",
    "ax=sns.stripplot(data=df_best, x='Topology_number', y='AIC', edgecolor = \"white\", hue='hit',\n",
    "size = 8, jitter = 0, zorder = 1, alpha=1, order=list(df_best['Topology_number']), palette=[ingeo_colours[6],'#00A651'])\n",
    "\n",
    "plt.xticks(rotation=90)\n",
    "plt.title(\"Best Fit - Dose Response (n=1000 initialisations)\\n38 Topologies\")\n",
    "\n",
    "plt.legend().remove()\n",
    "plt.xlabel(\"Topology #\")\n",
    "plt.ylabel(\"AIC\")\n",
    "#plt.savefig(\"residuals_AIC.pdf\")"
   ]
  },
  {
   "cell_type": "markdown",
   "id": "4fc1be30-f19c-4d33-a1db-592bb7c7d935",
   "metadata": {},
   "source": [
    "## Figure 2D - Simulations of top topologies (T1, T5 and T6):"
   ]
  },
  {
   "cell_type": "markdown",
   "id": "9df9b86d-f2b5-46b5-9d91-2c186b288293",
   "metadata": {},
   "source": [
    "Plotting individual topology simulations.\n",
    "\n",
    "Final panels for these data can be found in `Figure_2\\All_panels\\Figure_2D` including drawings of topologies."
   ]
  },
  {
   "cell_type": "markdown",
   "id": "06fc618c-abbf-4c4b-901b-7716f5e6ef93",
   "metadata": {},
   "source": [
    "Code chunk for saving multiple heatmaps at once can be found in `Figure_2_Plotting_functions.py`"
   ]
  },
  {
   "cell_type": "markdown",
   "id": "6035fcbd-4d4e-4ee2-a4da-50b78cd426da",
   "metadata": {},
   "source": [
    "#### Topology 1"
   ]
  },
  {
   "cell_type": "code",
   "execution_count": 5,
   "id": "aaaa5658-7c26-4e5c-81f4-3e6cd178d4a4",
   "metadata": {},
   "outputs": [
    {
     "ename": "NameError",
     "evalue": "name 'pickle' is not defined",
     "output_type": "error",
     "traceback": [
      "\u001b[0;31m---------------------------------------------------------------------------\u001b[0m",
      "\u001b[0;31mNameError\u001b[0m                                 Traceback (most recent call last)",
      "Cell \u001b[0;32mIn[5], line 4\u001b[0m\n\u001b[1;32m      1\u001b[0m top \u001b[38;5;241m=\u001b[39m \u001b[38;5;124m'\u001b[39m\u001b[38;5;124mT1\u001b[39m\u001b[38;5;124m'\u001b[39m\n\u001b[1;32m      2\u001b[0m data_path \u001b[38;5;241m=\u001b[39m \u001b[38;5;124m'\u001b[39m\u001b[38;5;124mFigure_2C-G_S2B-H_Modelling_fits/DRonly\u001b[39m\u001b[38;5;124m'\u001b[39m\n\u001b[0;32m----> 4\u001b[0m \u001b[43mPF\u001b[49m\u001b[38;5;241;43m.\u001b[39;49m\u001b[43mplotting_modelling_heatmaps\u001b[49m\u001b[43m(\u001b[49m\u001b[43mtop\u001b[49m\u001b[43m,\u001b[49m\u001b[43m \u001b[49m\u001b[43mhypo_\u001b[49m\u001b[43m,\u001b[49m\u001b[43m \u001b[49m\u001b[43mdata_path\u001b[49m\u001b[43m)\u001b[49m\n",
      "File \u001b[0;32m/nemo/lab/santoss/home/users/ingeo/Papers/Inge_et_al_Combinatorial_Signalling/Data_per_figure/Figure_2/Figure_2_Plotting_functions.py:59\u001b[0m, in \u001b[0;36mplotting_modelling_heatmaps\u001b[0;34m(top, hypo, data_path)\u001b[0m\n\u001b[1;32m     57\u001b[0m file \u001b[38;5;241m=\u001b[39m \u001b[38;5;28mopen\u001b[39m(path[\u001b[38;5;241m0\u001b[39m], \u001b[38;5;124m'\u001b[39m\u001b[38;5;124mrb\u001b[39m\u001b[38;5;124m'\u001b[39m)\n\u001b[1;32m     58\u001b[0m \u001b[38;5;66;03m# dump information to that file\u001b[39;00m\n\u001b[0;32m---> 59\u001b[0m data \u001b[38;5;241m=\u001b[39m \u001b[43mpickle\u001b[49m\u001b[38;5;241m.\u001b[39mload(file)\n\u001b[1;32m     61\u001b[0m custom_cmap \u001b[38;5;241m=\u001b[39m LinearSegmentedColormap\u001b[38;5;241m.\u001b[39mfrom_list(\u001b[38;5;124m'\u001b[39m\u001b[38;5;124mcustom_colormap\u001b[39m\u001b[38;5;124m'\u001b[39m, [\u001b[38;5;124m'\u001b[39m\u001b[38;5;124m#FFFFFF\u001b[39m\u001b[38;5;124m'\u001b[39m, ingeo_colours[\u001b[38;5;241m2\u001b[39m], \u001b[38;5;124m'\u001b[39m\u001b[38;5;124m#01544b\u001b[39m\u001b[38;5;124m'\u001b[39m])\n\u001b[1;32m     62\u001b[0m data\u001b[38;5;241m.\u001b[39mplot_params[\u001b[38;5;124m\"\u001b[39m\u001b[38;5;124mcolour_dict\u001b[39m\u001b[38;5;124m\"\u001b[39m][\u001b[38;5;124m\"\u001b[39m\u001b[38;5;124mA\u001b[39m\u001b[38;5;124m\"\u001b[39m] \u001b[38;5;241m=\u001b[39m custom_cmap\n",
      "\u001b[0;31mNameError\u001b[0m: name 'pickle' is not defined"
     ]
    }
   ],
   "source": [
    "top = 'T1'\n",
    "data_path = 'Figure_2C-G_S2B-H_Modelling_fits/DRonly'\n",
    "\n",
    "PF.plotting_modelling_heatmaps(top, hypo_, data_path)\n"
   ]
  },
  {
   "cell_type": "code",
   "execution_count": null,
   "id": "d964129f-2e50-411e-a078-88452eb0747a",
   "metadata": {},
   "outputs": [],
   "source": []
  },
  {
   "cell_type": "markdown",
   "id": "c7e074d4-5b51-4b5e-860c-37543977a12b",
   "metadata": {},
   "source": [
    "#### Topology 5"
   ]
  },
  {
   "cell_type": "code",
   "execution_count": 67,
   "id": "5189169a-e714-4955-b725-3f177b35e680",
   "metadata": {},
   "outputs": [
    {
     "data": {
      "text/plain": [
       "<markov_simulator_dynamic_14March23_Jax_deep.Markov_fit at 0x7fa939a36e80>"
      ]
     },
     "execution_count": 67,
     "metadata": {},
     "output_type": "execute_result"
    }
   ],
   "source": [
    "top = 'T5'\n",
    "data_path = 'Figure_2C-G_S2B-H_Modelling_fits/DRonly'\n",
    "\n",
    "plotting_modelling_heatmaps(top, hypo_)\n"
   ]
  },
  {
   "cell_type": "code",
   "execution_count": null,
   "id": "816a50af-6ce8-49ba-83cb-b3fa2218858b",
   "metadata": {},
   "outputs": [],
   "source": []
  },
  {
   "cell_type": "markdown",
   "id": "377f2609-4ca3-43e0-b53e-57831a257b52",
   "metadata": {},
   "source": [
    "#### Topology 6"
   ]
  },
  {
   "cell_type": "code",
   "execution_count": null,
   "id": "ad51322b-abf5-43b0-baa9-f8f2c6c93fc0",
   "metadata": {},
   "outputs": [],
   "source": [
    "top = 'T6'\n",
    "data_path = 'Figure_2C-G_S2B-H_Modelling_fits/DRonly'\n",
    "\n",
    "plotting_modelling_heatmaps(top, hypo_)"
   ]
  }
 ],
 "metadata": {
  "kernelspec": {
   "display_name": "Python 3",
   "language": "python",
   "name": "python3"
  },
  "language_info": {
   "codemirror_mode": {
    "name": "ipython",
    "version": 3
   },
   "file_extension": ".py",
   "mimetype": "text/x-python",
   "name": "python",
   "nbconvert_exporter": "python",
   "pygments_lexer": "ipython3",
   "version": "3.9.18"
  }
 },
 "nbformat": 4,
 "nbformat_minor": 5
}
