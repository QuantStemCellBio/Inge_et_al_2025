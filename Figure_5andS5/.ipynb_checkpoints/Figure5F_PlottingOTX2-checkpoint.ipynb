{
 "cells": [
  {
   "cell_type": "code",
   "execution_count": 2,
   "id": "03d9b22a-c06d-4eea-a274-3fc521c35f4f",
   "metadata": {
    "tags": []
   },
   "outputs": [],
   "source": [
    "import pandas as pd\n",
    "\n",
    "import seaborn as sns\n",
    "import matplotlib.pyplot as plt\n",
    "\n",
    "ingeo_colours = [\"#0077BB\",\"#33BBEE\",\"#009988\",\"#EE7733\",\"#CC3311\",\"#EE3377\",\"#BBBBBB\",\"#5D54A4\"]\n"
   ]
  },
  {
   "cell_type": "code",
   "execution_count": 3,
   "id": "7f1b367b-e1c5-48f6-89ac-670443db47aa",
   "metadata": {
    "tags": []
   },
   "outputs": [],
   "source": [
    "df = pd.read_csv('GatedPopulations.txt', delimiter='\\t')\n",
    "df = df.drop(columns=\"Unnamed: 7\")"
   ]
  },
  {
   "cell_type": "code",
   "execution_count": 4,
   "id": "7fdcd055-6c0e-4a1d-a791-c46a27a68e53",
   "metadata": {
    "tags": []
   },
   "outputs": [
    {
     "data": {
      "text/html": [
       "<div>\n",
       "<style scoped>\n",
       "    .dataframe tbody tr th:only-of-type {\n",
       "        vertical-align: middle;\n",
       "    }\n",
       "\n",
       "    .dataframe tbody tr th {\n",
       "        vertical-align: top;\n",
       "    }\n",
       "\n",
       "    .dataframe thead th {\n",
       "        text-align: right;\n",
       "    }\n",
       "</style>\n",
       "<table border=\"1\" class=\"dataframe\">\n",
       "  <thead>\n",
       "    <tr style=\"text-align: right;\">\n",
       "      <th></th>\n",
       "      <th>Group</th>\n",
       "      <th>Name / Description</th>\n",
       "      <th>All</th>\n",
       "      <th>SOX17+</th>\n",
       "      <th>SOX17+OTX2+</th>\n",
       "      <th>R03 AND R01</th>\n",
       "      <th>R03</th>\n",
       "    </tr>\n",
       "  </thead>\n",
       "  <tbody>\n",
       "    <tr>\n",
       "      <th>0</th>\n",
       "      <td>1</td>\n",
       "      <td>NaN</td>\n",
       "      <td>0.0</td>\n",
       "      <td>0.0</td>\n",
       "      <td>0.0</td>\n",
       "      <td>0.0</td>\n",
       "      <td>0.0</td>\n",
       "    </tr>\n",
       "    <tr>\n",
       "      <th>1</th>\n",
       "      <td>2</td>\n",
       "      <td>FOXC1+_R1</td>\n",
       "      <td>100.0</td>\n",
       "      <td>100.0</td>\n",
       "      <td>78.0</td>\n",
       "      <td>100.0</td>\n",
       "      <td>100.0</td>\n",
       "    </tr>\n",
       "    <tr>\n",
       "      <th>2</th>\n",
       "      <td>3</td>\n",
       "      <td>FOXC1+_R2</td>\n",
       "      <td>100.0</td>\n",
       "      <td>100.0</td>\n",
       "      <td>83.5</td>\n",
       "      <td>100.0</td>\n",
       "      <td>100.0</td>\n",
       "    </tr>\n",
       "    <tr>\n",
       "      <th>3</th>\n",
       "      <td>4</td>\n",
       "      <td>FOXC1+_R3</td>\n",
       "      <td>100.0</td>\n",
       "      <td>100.0</td>\n",
       "      <td>92.7</td>\n",
       "      <td>100.0</td>\n",
       "      <td>100.0</td>\n",
       "    </tr>\n",
       "    <tr>\n",
       "      <th>4</th>\n",
       "      <td>5</td>\n",
       "      <td>FOXC1-_R1</td>\n",
       "      <td>100.0</td>\n",
       "      <td>100.0</td>\n",
       "      <td>87.0</td>\n",
       "      <td>100.0</td>\n",
       "      <td>100.0</td>\n",
       "    </tr>\n",
       "    <tr>\n",
       "      <th>5</th>\n",
       "      <td>6</td>\n",
       "      <td>FOXC1-_R2</td>\n",
       "      <td>100.0</td>\n",
       "      <td>100.0</td>\n",
       "      <td>77.1</td>\n",
       "      <td>100.0</td>\n",
       "      <td>100.0</td>\n",
       "    </tr>\n",
       "    <tr>\n",
       "      <th>6</th>\n",
       "      <td>7</td>\n",
       "      <td>FOXC1-_R3</td>\n",
       "      <td>100.0</td>\n",
       "      <td>100.0</td>\n",
       "      <td>84.3</td>\n",
       "      <td>100.0</td>\n",
       "      <td>100.0</td>\n",
       "    </tr>\n",
       "    <tr>\n",
       "      <th>7</th>\n",
       "      <td>8</td>\n",
       "      <td>FOXC1+-_R1</td>\n",
       "      <td>100.0</td>\n",
       "      <td>100.0</td>\n",
       "      <td>95.0</td>\n",
       "      <td>100.0</td>\n",
       "      <td>100.0</td>\n",
       "    </tr>\n",
       "    <tr>\n",
       "      <th>8</th>\n",
       "      <td>9</td>\n",
       "      <td>FOXC1+-_R2</td>\n",
       "      <td>100.0</td>\n",
       "      <td>100.0</td>\n",
       "      <td>96.7</td>\n",
       "      <td>100.0</td>\n",
       "      <td>100.0</td>\n",
       "    </tr>\n",
       "    <tr>\n",
       "      <th>9</th>\n",
       "      <td>10</td>\n",
       "      <td>FOXC1+-_R3</td>\n",
       "      <td>100.0</td>\n",
       "      <td>100.0</td>\n",
       "      <td>91.7</td>\n",
       "      <td>100.0</td>\n",
       "      <td>100.0</td>\n",
       "    </tr>\n",
       "    <tr>\n",
       "      <th>10</th>\n",
       "      <td>11</td>\n",
       "      <td>U_R1</td>\n",
       "      <td>100.0</td>\n",
       "      <td>100.0</td>\n",
       "      <td>7.7</td>\n",
       "      <td>100.0</td>\n",
       "      <td>100.0</td>\n",
       "    </tr>\n",
       "    <tr>\n",
       "      <th>11</th>\n",
       "      <td>12</td>\n",
       "      <td>U_R2</td>\n",
       "      <td>100.0</td>\n",
       "      <td>100.0</td>\n",
       "      <td>22.1</td>\n",
       "      <td>100.0</td>\n",
       "      <td>100.0</td>\n",
       "    </tr>\n",
       "    <tr>\n",
       "      <th>12</th>\n",
       "      <td>13</td>\n",
       "      <td>U_R3</td>\n",
       "      <td>100.0</td>\n",
       "      <td>100.0</td>\n",
       "      <td>14.1</td>\n",
       "      <td>100.0</td>\n",
       "      <td>100.0</td>\n",
       "    </tr>\n",
       "  </tbody>\n",
       "</table>\n",
       "</div>"
      ],
      "text/plain": [
       "    Group Name / Description    All  SOX17+  SOX17+OTX2+  R03 AND R01    R03\n",
       "0       1                NaN    0.0     0.0          0.0          0.0    0.0\n",
       "1       2          FOXC1+_R1  100.0   100.0         78.0        100.0  100.0\n",
       "2       3          FOXC1+_R2  100.0   100.0         83.5        100.0  100.0\n",
       "3       4          FOXC1+_R3  100.0   100.0         92.7        100.0  100.0\n",
       "4       5          FOXC1-_R1  100.0   100.0         87.0        100.0  100.0\n",
       "5       6          FOXC1-_R2  100.0   100.0         77.1        100.0  100.0\n",
       "6       7          FOXC1-_R3  100.0   100.0         84.3        100.0  100.0\n",
       "7       8         FOXC1+-_R1  100.0   100.0         95.0        100.0  100.0\n",
       "8       9         FOXC1+-_R2  100.0   100.0         96.7        100.0  100.0\n",
       "9      10         FOXC1+-_R3  100.0   100.0         91.7        100.0  100.0\n",
       "10     11               U_R1  100.0   100.0          7.7        100.0  100.0\n",
       "11     12               U_R2  100.0   100.0         22.1        100.0  100.0\n",
       "12     13               U_R3  100.0   100.0         14.1        100.0  100.0"
      ]
     },
     "execution_count": 4,
     "metadata": {},
     "output_type": "execute_result"
    }
   ],
   "source": [
    "df"
   ]
  },
  {
   "cell_type": "code",
   "execution_count": 5,
   "id": "bc667f72-7578-47cb-8201-a837f5a969cc",
   "metadata": {
    "tags": []
   },
   "outputs": [],
   "source": [
    "df = df.dropna()"
   ]
  },
  {
   "cell_type": "code",
   "execution_count": 6,
   "id": "cbe147a1-af66-4998-a920-d6a0e9e0a01b",
   "metadata": {
    "tags": []
   },
   "outputs": [
    {
     "name": "stderr",
     "output_type": "stream",
     "text": [
      "/var/folders/zt/02d2ncnd3ng81d6rzs8gyrqsz809m_/T/ipykernel_28321/2867581885.py:1: SettingWithCopyWarning: \n",
      "A value is trying to be set on a copy of a slice from a DataFrame.\n",
      "Try using .loc[row_indexer,col_indexer] = value instead\n",
      "\n",
      "See the caveats in the documentation: https://pandas.pydata.org/pandas-docs/stable/user_guide/indexing.html#returning-a-view-versus-a-copy\n",
      "  df[['status', 'repeat']] = df['Name / Description'].str.split('_', expand=True)\n",
      "/var/folders/zt/02d2ncnd3ng81d6rzs8gyrqsz809m_/T/ipykernel_28321/2867581885.py:1: SettingWithCopyWarning: \n",
      "A value is trying to be set on a copy of a slice from a DataFrame.\n",
      "Try using .loc[row_indexer,col_indexer] = value instead\n",
      "\n",
      "See the caveats in the documentation: https://pandas.pydata.org/pandas-docs/stable/user_guide/indexing.html#returning-a-view-versus-a-copy\n",
      "  df[['status', 'repeat']] = df['Name / Description'].str.split('_', expand=True)\n"
     ]
    }
   ],
   "source": [
    "df[['status', 'repeat']] = df['Name / Description'].str.split('_', expand=True)"
   ]
  },
  {
   "cell_type": "code",
   "execution_count": 7,
   "id": "de578e79-6d5e-47bd-94a1-7f5099c62d7f",
   "metadata": {
    "tags": []
   },
   "outputs": [],
   "source": [
    "df = df.loc[df['status'].isin([\"FOXC1+\",\"FOXC1-\"])]"
   ]
  },
  {
   "cell_type": "code",
   "execution_count": 8,
   "id": "017e6fd5-a5e1-4966-b5fd-f9ab890cab17",
   "metadata": {
    "tags": []
   },
   "outputs": [],
   "source": [
    "import seaborn as sns"
   ]
  },
  {
   "cell_type": "code",
   "execution_count": null,
   "id": "bf6525e8-28df-4f54-abf2-d0271bb9b2b2",
   "metadata": {},
   "outputs": [],
   "source": []
  },
  {
   "cell_type": "code",
   "execution_count": 10,
   "id": "bde1a9b3-731c-4fb6-b830-3df5377b6d21",
   "metadata": {
    "tags": []
   },
   "outputs": [
    {
     "data": {
      "image/png": "[encoded data removed]",
      "text/plain": [
       "<Figure size 100x200 with 1 Axes>"
      ]
     },
     "metadata": {},
     "output_type": "display_data"
    }
   ],
   "source": [
    "import matplotlib.pyplot as plt\n",
    "import seaborn as sns\n",
    "\n",
    "plt.figure(figsize=(1, 2), dpi=100)\n",
    "sns.set_theme(style=\"ticks\")\n",
    "\n",
    "ax = sns.barplot(\n",
    "    data=df,\n",
    "    x=\"status\",\n",
    "    y=\"SOX17+OTX2+\",\n",
    "    order=['FOXC1-', 'FOXC1+'],\n",
    "    capsize=0.1,\n",
    "    errwidth=1.5,\n",
    "    dodge=False,\n",
    "    palette=[ingeo_colours[6], '#c2f988']\n",
    ")\n",
    "\n",
    "# Set y-axis ticks at specific positions\n",
    "ax.set_yticks([0, 25, 50, 75, 100])\n",
    "ax.set(ylim=(0, 101))\n",
    "\n",
    "# Rotate x-axis labels for readability\n",
    "ax.set_xticklabels(['FOXC1-', 'FOXC1+'], rotation=90)\n",
    "\n",
    "plt.savefig(\"OTX2.pdf\")"
   ]
  },
  {
   "cell_type": "code",
   "execution_count": null,
   "id": "db336521-8d37-4261-a985-edc7eabc4081",
   "metadata": {},
   "outputs": [],
   "source": []
  }
 ],
 "metadata": {
  "kernelspec": {
   "display_name": "Python 3 (ipykernel)",
   "language": "python",
   "name": "python3"
  },
  "language_info": {
   "codemirror_mode": {
    "name": "ipython",
    "version": 3
   },
   "file_extension": ".py",
   "mimetype": "text/x-python",
   "name": "python",
   "nbconvert_exporter": "python",
   "pygments_lexer": "ipython3",
   "version": "3.9.15"
  }
 },
 "nbformat": 4,
 "nbformat_minor": 5
}
