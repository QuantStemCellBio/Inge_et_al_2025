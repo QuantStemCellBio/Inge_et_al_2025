{
 "cells": [
  {
   "cell_type": "code",
   "execution_count": null,
   "id": "f69cb7c5-d3b7-4595-a7fb-5da4fa2b82df",
   "metadata": {},
   "outputs": [],
   "source": []
  },
  {
   "cell_type": "code",
   "execution_count": 1,
   "id": "41c162d4-f306-4775-a237-8dfbd8b4797f",
   "metadata": {},
   "outputs": [],
   "source": [
    "import pandas as pd"
   ]
  },
  {
   "cell_type": "code",
   "execution_count": 2,
   "id": "5630d54a-9ae5-4207-ae98-1098e4e15aaa",
   "metadata": {},
   "outputs": [],
   "source": [
    "import seaborn as sns"
   ]
  },
  {
   "cell_type": "code",
   "execution_count": 20,
   "id": "b84751cd-2879-42a9-863a-52173a2efa73",
   "metadata": {},
   "outputs": [],
   "source": [
    "Meso = pd.read_csv(\"assoRes_meso.csv\")\n",
    "Endo = pd.read_csv(\"assoRes_endo.csv\")"
   ]
  },
  {
   "cell_type": "code",
   "execution_count": 21,
   "id": "7130ab20-fc5a-42be-b016-19ccdda2eb2e",
   "metadata": {},
   "outputs": [],
   "source": [
    "Meso = Meso[['...1','waldStat_2', 'df_2', 'pvalue_2']]\n",
    "\n",
    "Endo = Endo[['...1','waldStat_1', 'df_1', 'pvalue_1']]"
   ]
  },
  {
   "cell_type": "code",
   "execution_count": 23,
   "id": "07a5372c-b680-4912-9b79-5427e00429df",
   "metadata": {},
   "outputs": [
    {
     "data": {
      "text/html": [
       "<div>\n",
       "<style scoped>\n",
       "    .dataframe tbody tr th:only-of-type {\n",
       "        vertical-align: middle;\n",
       "    }\n",
       "\n",
       "    .dataframe tbody tr th {\n",
       "        vertical-align: top;\n",
       "    }\n",
       "\n",
       "    .dataframe thead th {\n",
       "        text-align: right;\n",
       "    }\n",
       "</style>\n",
       "<table border=\"1\" class=\"dataframe\">\n",
       "  <thead>\n",
       "    <tr style=\"text-align: right;\">\n",
       "      <th></th>\n",
       "      <th>...1</th>\n",
       "      <th>waldStat_2</th>\n",
       "      <th>df_2</th>\n",
       "      <th>pvalue_2</th>\n",
       "    </tr>\n",
       "  </thead>\n",
       "  <tbody>\n",
       "    <tr>\n",
       "      <th>0</th>\n",
       "      <td>FYTTD1</td>\n",
       "      <td>58903552944125902848</td>\n",
       "      <td>8</td>\n",
       "      <td>0.000000</td>\n",
       "    </tr>\n",
       "    <tr>\n",
       "      <th>1</th>\n",
       "      <td>NRCAM</td>\n",
       "      <td>5414412493720495104</td>\n",
       "      <td>8</td>\n",
       "      <td>0.000000</td>\n",
       "    </tr>\n",
       "    <tr>\n",
       "      <th>2</th>\n",
       "      <td>PINK1</td>\n",
       "      <td>834190411919467776</td>\n",
       "      <td>8</td>\n",
       "      <td>0.000000</td>\n",
       "    </tr>\n",
       "    <tr>\n",
       "      <th>3</th>\n",
       "      <td>ZNF770</td>\n",
       "      <td>824064825792552704</td>\n",
       "      <td>8</td>\n",
       "      <td>0.000000</td>\n",
       "    </tr>\n",
       "    <tr>\n",
       "      <th>4</th>\n",
       "      <td>JARID2</td>\n",
       "      <td>501472423244413504</td>\n",
       "      <td>8</td>\n",
       "      <td>0.000000</td>\n",
       "    </tr>\n",
       "    <tr>\n",
       "      <th>...</th>\n",
       "      <td>...</td>\n",
       "      <td>...</td>\n",
       "      <td>...</td>\n",
       "      <td>...</td>\n",
       "    </tr>\n",
       "    <tr>\n",
       "      <th>4101</th>\n",
       "      <td>PIGV</td>\n",
       "      <td>18.2257851306625</td>\n",
       "      <td>8</td>\n",
       "      <td>0.019596</td>\n",
       "    </tr>\n",
       "    <tr>\n",
       "      <th>4102</th>\n",
       "      <td>ELK4</td>\n",
       "      <td>18.0208652087142</td>\n",
       "      <td>8</td>\n",
       "      <td>0.021071</td>\n",
       "    </tr>\n",
       "    <tr>\n",
       "      <th>4103</th>\n",
       "      <td>ADAMTS6</td>\n",
       "      <td>17.7858243879766</td>\n",
       "      <td>8</td>\n",
       "      <td>0.022891</td>\n",
       "    </tr>\n",
       "    <tr>\n",
       "      <th>4104</th>\n",
       "      <td>HIST1H2AJ</td>\n",
       "      <td>17.7288090113101</td>\n",
       "      <td>8</td>\n",
       "      <td>0.023354</td>\n",
       "    </tr>\n",
       "    <tr>\n",
       "      <th>4105</th>\n",
       "      <td>DCAF11</td>\n",
       "      <td>16.9834838430973</td>\n",
       "      <td>8</td>\n",
       "      <td>0.030282</td>\n",
       "    </tr>\n",
       "  </tbody>\n",
       "</table>\n",
       "<p>4106 rows × 4 columns</p>\n",
       "</div>"
      ],
      "text/plain": [
       "           ...1            waldStat_2  df_2  pvalue_2\n",
       "0        FYTTD1  58903552944125902848     8  0.000000\n",
       "1         NRCAM   5414412493720495104     8  0.000000\n",
       "2         PINK1    834190411919467776     8  0.000000\n",
       "3        ZNF770    824064825792552704     8  0.000000\n",
       "4        JARID2    501472423244413504     8  0.000000\n",
       "...         ...                   ...   ...       ...\n",
       "4101       PIGV      18.2257851306625     8  0.019596\n",
       "4102       ELK4      18.0208652087142     8  0.021071\n",
       "4103    ADAMTS6      17.7858243879766     8  0.022891\n",
       "4104  HIST1H2AJ      17.7288090113101     8  0.023354\n",
       "4105     DCAF11      16.9834838430973     8  0.030282\n",
       "\n",
       "[4106 rows x 4 columns]"
      ]
     },
     "execution_count": 23,
     "metadata": {},
     "output_type": "execute_result"
    }
   ],
   "source": [
    "Meso"
   ]
  },
  {
   "cell_type": "code",
   "execution_count": null,
   "id": "9087e8c9-54fb-4126-9c16-d9c9b3131bbc",
   "metadata": {},
   "outputs": [],
   "source": []
  }
 ],
 "metadata": {
  "kernelspec": {
   "display_name": "Python 3 (ipykernel)",
   "language": "python",
   "name": "python3"
  },
  "language_info": {
   "codemirror_mode": {
    "name": "ipython",
    "version": 3
   },
   "file_extension": ".py",
   "mimetype": "text/x-python",
   "name": "python",
   "nbconvert_exporter": "python",
   "pygments_lexer": "ipython3",
   "version": "3.7.16"
  }
 },
 "nbformat": 4,
 "nbformat_minor": 5
}
