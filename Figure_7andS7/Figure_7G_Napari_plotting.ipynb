{
 "cells": [
  {
   "cell_type": "code",
   "execution_count": 7,
   "id": "1c916d19-6bd2-409c-aae0-f7bcee534e2b",
   "metadata": {},
   "outputs": [],
   "source": [
    "import napari\n",
    "import pandas as pd \n",
    "\n",
    "from skimage import data\n",
    "from skimage.io import imread, imsave\n",
    "import skimage\n",
    "import numpy as np\n",
    "\n",
    "import os \n",
    "import glob as glob\n",
    "\n",
    "from napari.utils.colormaps.standardize_color import transform_color\n",
    "\n",
    "def binarise_mask(mask_image, value):\n",
    "    \"\"\"Return a binarised image mask \"\"\"\n",
    "    \n",
    "   \n",
    "    bin_mask =  mask_image.flatten()\n",
    "    bin_mask[bin_mask > 0] = value\n",
    "    bin_mask  = bin_mask.reshape(mask_image.shape)\n",
    "    \n",
    "    \n",
    "    return bin_mask"
   ]
  },
  {
   "cell_type": "code",
   "execution_count": 9,
   "id": "3262c99c-235a-4e62-9687-223e2a7c0694",
   "metadata": {},
   "outputs": [],
   "source": [
    "path = os.path.join(os.getcwd(), 'selected2')\n",
    "fns = glob.glob(os.path.join(path, f\"*SOX17pAchp.tif\"))\n",
    "fns.sort()\n",
    "\n",
    "pos = [imread(x) for x in fns]\n",
    "pos = [skimage.segmentation.clear_border(n) for n in pos]\n",
    "pos = [pos[0], pos[2], pos[3], pos[1]]\n",
    "pos = np.array(pos)\n",
    "\n",
    "path = os.path.join(os.getcwd(), 'selected2')\n",
    "fns = glob.glob(os.path.join(path, f\"*SOX17pAchn.tif\"))\n",
    "fns.sort()\n",
    "\n",
    "neg = [imread(x) for x in fns]\n",
    "neg = [skimage.segmentation.clear_border(n) for n in neg]\n",
    "\n",
    "neg = [neg[0], neg[2], neg[3], neg[1]]\n",
    "neg = np.array(neg)"
   ]
  },
  {
   "cell_type": "code",
   "execution_count": 10,
   "id": "2be995a1-e194-471f-8ecc-b5bd57948cf6",
   "metadata": {},
   "outputs": [],
   "source": [
    "neg = np.concat(neg, axis=1)\n",
    "pos = np.concat(pos, axis=1)"
   ]
  },
  {
   "cell_type": "code",
   "execution_count": 11,
   "id": "8b3d8bfa-5ebc-4793-a455-78692c1c34a6",
   "metadata": {},
   "outputs": [],
   "source": [
    "# Create a Napari viewer\n",
    "viewer = napari.Viewer()\n",
    "\n",
    "# Add the image as a single image layer\n",
    "viewer.add_image(binarise_mask(neg, 1000), name=\"SOX17+Ach-\", opacity=1, blending=\"additive\", visible=False)\n",
    "viewer.add_image(binarise_mask(pos, 1000), name=\"SOX17+Ach+\", opacity=1, blending=\"additive\", visible=False)\n",
    "\n",
    "napari.run()"
   ]
  },
  {
   "cell_type": "code",
   "execution_count": 12,
   "id": "285c2341-be14-406c-a001-6d7898cd0742",
   "metadata": {},
   "outputs": [],
   "source": [
    "import napari\n",
    "import numpy as np\n",
    "from matplotlib.colors import LinearSegmentedColormap\n",
    "from vispy.color import Colormap\n",
    "\n",
    "colors = ['#000000', '#44D825']\n",
    "\n",
    "# Create a LinearSegmentedColormap using hexadecimal colors\n",
    "custom_colormap = LinearSegmentedColormap.from_list('custom_colormap', colors, N=2)\n",
    "\n",
    "colors = ['#000000', '#E6E7E8']\n",
    "\n",
    "custom_colormap2 = LinearSegmentedColormap.from_list('custom_colormap2', colors, N=2)\n",
    "\n",
    "# Convert the colormap to a format Napari can use\n",
    "def colormap_to_array(cmap):\n",
    "    \"\"\" Convert a matplotlib colormap to a list of RGBA values. \"\"\"\n",
    "    return cmap(np.linspace(0, 1, cmap.N))\n",
    "\n",
    "# Create a Napari viewer\n",
    "viewer = napari.Viewer()\n",
    "\n",
    "# Add the image layer with the custom colormap\n",
    "viewer.add_image(\n",
    "    binarise_mask(pos, 1000),\n",
    "    colormap=Colormap(colormap_to_array(custom_colormap)),\n",
    "    opacity=1,\n",
    "    blending=\"additive\",\n",
    "    visible=True\n",
    ")\n",
    "\n",
    "viewer.add_image(\n",
    "    binarise_mask(neg, 1000),\n",
    "    colormap=Colormap(colormap_to_array(custom_colormap2)),\n",
    "    opacity=1,\n",
    "    blending=\"additive\",\n",
    "    visible=True\n",
    ")\n",
    "\n",
    "# Run the Napari viewer\n",
    "napari.run()"
   ]
  },
  {
   "cell_type": "code",
   "execution_count": 13,
   "id": "5a0b7e9a-d177-40e3-8fc0-483d9b51f838",
   "metadata": {},
   "outputs": [
    {
     "name": "stderr",
     "output_type": "stream",
     "text": [
      "/var/folders/zt/02d2ncnd3ng81d6rzs8gyrqsz809m_/T/ipykernel_28951/3851032292.py:1: UserWarning: montages/negatives.tif is a low contrast image\n",
      "  imsave(\"montages/negatives.tif\", binarise_mask(neg, 1000))\n",
      "/var/folders/zt/02d2ncnd3ng81d6rzs8gyrqsz809m_/T/ipykernel_28951/3851032292.py:2: UserWarning: montages/positives2.tif is a low contrast image\n",
      "  imsave(\"montages/positives2.tif\", binarise_mask(pos, 1000))\n"
     ]
    }
   ],
   "source": [
    "imsave(\"montages/negatives.tif\", binarise_mask(neg, 1000))\n",
    "imsave(\"montages/positives2.tif\", binarise_mask(pos, 1000))"
   ]
  },
  {
   "cell_type": "code",
   "execution_count": 121,
   "id": "323d1c29-d919-40a8-bc0c-3142f0d179a8",
   "metadata": {},
   "outputs": [],
   "source": [
    "## colour images"
   ]
  },
  {
   "cell_type": "code",
   "execution_count": 123,
   "id": "44028fa5-3c77-450e-aaa6-7aa3c2802f51",
   "metadata": {},
   "outputs": [
    {
     "name": "stderr",
     "output_type": "stream",
     "text": [
      "/var/folders/zt/02d2ncnd3ng81d6rzs8gyrqsz809m_/T/ipykernel_7044/1277862168.py:29: UserWarning: montages/YFP.tif is a low contrast image\n",
      "  imsave(\"montages/YFP.tif\", YFP)\n"
     ]
    }
   ],
   "source": [
    "path = os.path.join(os.getcwd(), 'selected2')\n",
    "fns = glob.glob(os.path.join(path, f\"*DAPI*\"))\n",
    "fns.sort()\n",
    "\n",
    "pos = [imread(x) for x in fns]\n",
    "pos = [pos[0], pos[1], pos[4], pos[2], pos[3]]\n",
    "pos = np.concat(pos, axis=1)\n",
    "DAPI = np.array(pos)\n",
    "\n",
    "path = os.path.join(os.getcwd(), 'selected2')\n",
    "fns = glob.glob(os.path.join(path, f\"*a647*\"))\n",
    "fns.sort()\n",
    "\n",
    "pos = [imread(x) for x in fns]\n",
    "pos = [pos[0], pos[1], pos[4], pos[2], pos[3]]\n",
    "pos = np.concat(pos, axis=1)\n",
    "a647 = np.array(pos)\n",
    "\n",
    "path = os.path.join(os.getcwd(), 'selected2')\n",
    "fns = glob.glob(os.path.join(path, f\"*YFP*\"))\n",
    "fns.sort()\n",
    "\n",
    "pos = [imread(x) for x in fns]\n",
    "pos = [pos[0], pos[1], pos[4], pos[2], pos[3]]\n",
    "pos = np.concat(pos, axis=1)\n",
    "YFP = np.array(pos)\n",
    "\n",
    "imsave(\"montages/DAPI.tif\", DAPI)\n",
    "imsave(\"montages/YFP.tif\", YFP)\n",
    "imsave(\"montages/a647.tif\", a647)"
   ]
  },
  {
   "cell_type": "code",
   "execution_count": null,
   "id": "9c41e283-b763-42f6-93d5-9baa94024715",
   "metadata": {},
   "outputs": [],
   "source": []
  },
  {
   "cell_type": "code",
   "execution_count": null,
   "id": "4a16ec41-fdbe-4025-9e17-ee3d6c39b57a",
   "metadata": {},
   "outputs": [],
   "source": []
  },
  {
   "cell_type": "code",
   "execution_count": null,
   "id": "dcc3eb80-34a2-4fe9-adae-dbc9546f0aaa",
   "metadata": {},
   "outputs": [],
   "source": []
  },
  {
   "cell_type": "code",
   "execution_count": null,
   "id": "3e08543e-882e-4b8a-8bd9-b8af9b52b40d",
   "metadata": {},
   "outputs": [],
   "source": []
  }
 ],
 "metadata": {
  "kernelspec": {
   "display_name": "Python 3 (ipykernel)",
   "language": "python",
   "name": "python3"
  },
  "language_info": {
   "codemirror_mode": {
    "name": "ipython",
    "version": 3
   },
   "file_extension": ".py",
   "mimetype": "text/x-python",
   "name": "python",
   "nbconvert_exporter": "python",
   "pygments_lexer": "ipython3",
   "version": "3.10.14"
  }
 },
 "nbformat": 4,
 "nbformat_minor": 5
}
