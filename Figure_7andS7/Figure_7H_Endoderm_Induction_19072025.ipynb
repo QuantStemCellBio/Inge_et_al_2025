{
 "cells": [
  {
   "cell_type": "code",
   "execution_count": 2,
   "id": "2bf785d0-f015-4ff3-ad80-2ad4368e4984",
   "metadata": {
    "tags": []
   },
   "outputs": [],
   "source": [
    "import pandas as pd\n",
    "\n",
    "import seaborn as sns\n",
    "import matplotlib.pyplot as plt\n",
    "\n",
    "ingeo_colours = [\"#0077BB\",\"#33BBEE\",\"#009988\",\"#EE7733\",\"#CC3311\",\"#EE3377\",\"#BBBBBB\",\"#5D54A4\"]\n"
   ]
  },
  {
   "cell_type": "code",
   "execution_count": 39,
   "id": "6658f1e0-7b73-4639-9124-659ba29bae44",
   "metadata": {
    "tags": []
   },
   "outputs": [],
   "source": [
    "df = pd.read_csv(\"GatedPopulations_SOX17_Total.txt\", sep=\"\\t\")"
   ]
  },
  {
   "cell_type": "code",
   "execution_count": 40,
   "id": "c25295f6-570c-4911-9206-81648f405a5e",
   "metadata": {
    "tags": []
   },
   "outputs": [],
   "source": [
    "df['Name / Description'] = df['Name / Description'].astype(str)\n",
    "df = df.loc[df['Name / Description']!='nan']"
   ]
  },
  {
   "cell_type": "code",
   "execution_count": 41,
   "id": "2ffb15b9-a03b-4fe9-8f1f-52836a9ff91f",
   "metadata": {
    "tags": []
   },
   "outputs": [],
   "source": [
    "df[['Treatment', 'siRNA', 'Repeat']] = df['Name / Description'].str.split('_', n=2, expand=True)\n",
    "df = df.loc[df['Cells'] == 100.0]"
   ]
  },
  {
   "cell_type": "code",
   "execution_count": 42,
   "id": "3be45099-f9d6-4d3b-aaec-8f3928649f3d",
   "metadata": {
    "tags": []
   },
   "outputs": [],
   "source": [
    "df['Condition'] = df[['Treatment', 'siRNA']].agg('_'.join, axis=1)"
   ]
  },
  {
   "cell_type": "code",
   "execution_count": 43,
   "id": "853d39ca-6948-472a-9487-d8bb4b782343",
   "metadata": {
    "tags": []
   },
   "outputs": [],
   "source": [
    "order = [\"A100B10_SCR\", \"A100_SCR\",\"A100_SOX2\",\"A100_NANOG\"]\n",
    "\n",
    "df_ = df.loc[df['Condition'].isin(order)]\n"
   ]
  },
  {
   "cell_type": "code",
   "execution_count": 44,
   "id": "933c113e-4a2d-49da-8aec-7bab1eb08137",
   "metadata": {
    "tags": []
   },
   "outputs": [
    {
     "name": "stderr",
     "output_type": "stream",
     "text": [
      "<ipython-input-44-defc3270b277>:6: FutureWarning: \n",
      "\n",
      "Passing `palette` without assigning `hue` is deprecated and will be removed in v0.14.0. Assign the `x` variable to `hue` and set `legend=False` for the same effect.\n",
      "\n",
      "  ax = sns.barplot(data=df_, x='Condition', y='SOX17+',\n",
      "<ipython-input-44-defc3270b277>:6: FutureWarning: \n",
      "\n",
      "The `errwidth` parameter is deprecated. And will be removed in v0.15.0. Pass `err_kws={'linewidth': 1.5}` instead.\n",
      "\n",
      "  ax = sns.barplot(data=df_, x='Condition', y='SOX17+',\n",
      "<ipython-input-44-defc3270b277>:8: UserWarning: set_ticklabels() should only be used with a fixed number of ticks, i.e. after set_ticks() or using a FixedLocator.\n",
      "  ax.set_xticklabels(['siNTC', 'siNTC', 'siSOX2','siNANOG'])\n"
     ]
    },
    {
     "data": {
      "text/plain": [
       "([0, 1, 2, 3],\n",
       " [Text(0, 0, 'siNTC'),\n",
       "  Text(1, 0, 'siNTC'),\n",
       "  Text(2, 0, 'siSOX2'),\n",
       "  Text(3, 0, 'siNANOG')])"
      ]
     },
     "execution_count": 44,
     "metadata": {},
     "output_type": "execute_result"
    },
    {
     "data": {
      "image/png": "[encoded data removed]",
      "text/plain": [
       "<Figure size 250x250 with 1 Axes>"
      ]
     },
     "metadata": {},
     "output_type": "display_data"
    }
   ],
   "source": [
    "\n",
    "plt.figure(figsize=(2.5,2.5), dpi=100)\n",
    "sns.set_style(\"ticks\")\n",
    "\n",
    "y_axis_limit=100\n",
    "\n",
    "ax = sns.barplot(data=df_, x='Condition', y='SOX17+', \n",
    "                capsize=0.3, errwidth=1.5, dodge=False, palette=[ingeo_colours[4],ingeo_colours[0],ingeo_colours[0],ingeo_colours[0]], order=order)\n",
    "ax.set_xticklabels(['siNTC', 'siNTC', 'siSOX2','siNANOG'])\n",
    "sns.despine(ax=ax)\n",
    "plt.ylim(0,100)\n",
    "plt.xticks(rotation=90)\n",
    "#plt.savefig(\"SOX17_routes_exp.pdf\")"
   ]
  },
  {
   "cell_type": "code",
   "execution_count": 45,
   "id": "1daa74fd-fcc3-4355-b4db-cf59daade0e6",
   "metadata": {},
   "outputs": [],
   "source": [
    "df_[['Condition','SOX17+','Repeat']].to_csv(\"SOX17+.csv\")"
   ]
  },
  {
   "cell_type": "code",
   "execution_count": 23,
   "id": "56d2b66d-d1b6-45ca-98d8-64d20c68a1f1",
   "metadata": {
    "scrolled": true
   },
   "outputs": [],
   "source": [
    "df_ = pd.read_csv(\"GatedPopulations_SOX17_Achillesstatus.txt\", sep=\"\\t\")\n",
    "\n",
    "df_['Name / Description'] = df_['Name / Description'].astype(str)\n",
    "df_ = df_.loc[df_['Name / Description']!='nan']\n",
    "\n",
    "df_[['Treatment', 'siRNA', 'Repeat']] = df_['Name / Description'].str.split('_', n=2, expand=True)\n",
    "df_ = df_.loc[df_['Cells'] == 100.0]\n",
    "\n",
    "df_['Achilles+'] = df_['SOX17+Ach+']\n",
    "df_['Achilles-'] = df_['SOX17+Ach-']\n",
    "\n",
    "df_['Condition'] = df_[['Treatment', 'siRNA']].agg('_'.join, axis=1)\n",
    "\n",
    "\n",
    "data_pos = pd.melt(df_, id_vars=['Treatment','siRNA'], value_vars=['Achilles+', 'Achilles-'])"
   ]
  },
  {
   "cell_type": "code",
   "execution_count": 30,
   "id": "059bca25-ae7f-42a2-b407-f2ab312729b4",
   "metadata": {},
   "outputs": [
    {
     "name": "stderr",
     "output_type": "stream",
     "text": [
      "<ipython-input-30-71de502c4aa5>:9: FutureWarning: \n",
      "\n",
      "Passing `palette` without assigning `hue` is deprecated and will be removed in v0.14.0. Assign the `x` variable to `hue` and set `legend=False` for the same effect.\n",
      "\n",
      "  ax = sns.barplot(data=df_, x='Condition', y='SOX17+Ach+',\n",
      "<ipython-input-30-71de502c4aa5>:9: FutureWarning: \n",
      "\n",
      "The `errwidth` parameter is deprecated. And will be removed in v0.15.0. Pass `err_kws={'linewidth': 1.5}` instead.\n",
      "\n",
      "  ax = sns.barplot(data=df_, x='Condition', y='SOX17+Ach+',\n",
      "<ipython-input-30-71de502c4aa5>:11: UserWarning: set_ticklabels() should only be used with a fixed number of ticks, i.e. after set_ticks() or using a FixedLocator.\n",
      "  ax.set_xticklabels(['siNTC', 'siNTC', 'siSOX2','siNANOG'])\n"
     ]
    },
    {
     "data": {
      "text/plain": [
       "([0, 1, 2, 3],\n",
       " [Text(0, 0, 'siNTC'),\n",
       "  Text(1, 0, 'siNTC'),\n",
       "  Text(2, 0, 'siSOX2'),\n",
       "  Text(3, 0, 'siNANOG')])"
      ]
     },
     "execution_count": 30,
     "metadata": {},
     "output_type": "execute_result"
    },
    {
     "data": {
      "image/png": "[encoded data removed]",
      "text/plain": [
       "<Figure size 250x250 with 1 Axes>"
      ]
     },
     "metadata": {},
     "output_type": "display_data"
    }
   ],
   "source": [
    "order = [\"A100B10_SCR\", \"A100_SCR\",\"A100_SOX2\",\"A100_NANOG\"]\n",
    "\n",
    "df_ = df_.loc[df_['Condition'].isin(order)]\n",
    "plt.figure(figsize=(2.5,2.5), dpi=100)\n",
    "sns.set_style(\"ticks\")\n",
    "\n",
    "y_axis_limit=100\n",
    "\n",
    "ax = sns.barplot(data=df_, x='Condition', y='SOX17+Ach+', \n",
    "                capsize=0.3, errwidth=1.5, dodge=False, palette=[ingeo_colours[4],ingeo_colours[0],ingeo_colours[0],ingeo_colours[0]], order=order)\n",
    "ax.set_xticklabels(['siNTC', 'siNTC', 'siSOX2','siNANOG'])\n",
    "sns.despine(ax=ax)\n",
    "plt.ylim(0,50)\n",
    "plt.xticks(rotation=90)"
   ]
  },
  {
   "cell_type": "code",
   "execution_count": 38,
   "id": "2b182330-259f-40a6-aa68-6ac4425898a9",
   "metadata": {},
   "outputs": [],
   "source": [
    "df_[['Condition','SOX17+Ach+','Repeat']].to_csv(\"SOX17+Ach+.csv\")"
   ]
  }
 ],
 "metadata": {
  "kernelspec": {
   "display_name": "Python 3",
   "language": "python",
   "name": "python3"
  },
  "language_info": {
   "codemirror_mode": {
    "name": "ipython",
    "version": 3
   },
   "file_extension": ".py",
   "mimetype": "text/x-python",
   "name": "python",
   "nbconvert_exporter": "python",
   "pygments_lexer": "ipython3",
   "version": "3.9.18"
  }
 },
 "nbformat": 4,
 "nbformat_minor": 5
}
