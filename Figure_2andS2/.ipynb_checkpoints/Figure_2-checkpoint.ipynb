{
 "cells": [
  {
   "cell_type": "markdown",
   "id": "64f0abe0-b508-4f1a-863b-f6ec30e802e5",
   "metadata": {},
   "source": [
    "# Figure 2"
   ]
  },
  {
   "cell_type": "markdown",
   "id": "9a9ec4e4-202d-44ad-a49e-0c7dd49de14f",
   "metadata": {},
   "source": [
    "This script contains the analysis for the Markov modelling in Figure 2.  \n"
   ]
  },
  {
   "cell_type": "markdown",
   "id": "d2bea28b-396e-450d-9c25-cfe0b5aa6381",
   "metadata": {},
   "source": [
    "### Load Modules"
   ]
  },
  {
   "cell_type": "code",
   "execution_count": 1,
   "id": "f7437227-e450-48b5-ac4b-a5b1a8f8ffd4",
   "metadata": {},
   "outputs": [],
   "source": [
    "from markov_simulator_dynamic_14March23_Jax_deep import Markov_fit\n",
    "from markov_simulator_dynamic_14March23_Jax_deep import make_extent\n",
    "import Figure_2_functions as PF\n",
    "\n",
    "import importlib\n",
    "importlib.reload(PF)\n",
    "\n",
    "import os\n",
    "import pandas as pd\n",
    "import seaborn as sns\n",
    "import pickle as pickle\n",
    "import glob as glob\n",
    "import numpy as np\n",
    "import matplotlib.pyplot as plt\n",
    "from matplotlib.colors import LinearSegmentedColormap\n",
    "\n",
    "ingeo_colours = [\"#0077BB\", \"#33BBEE\", \"#009988\", \"#EE7733\", \"#CC3311\", \"#EE3377\", \"#BBBBBB\", \"#5D55A4\"]\n"
   ]
  },
  {
   "cell_type": "markdown",
   "id": "e9854854-034c-4f48-bba4-ebfe7ab5371b",
   "metadata": {},
   "source": [
    "## Figure 2A-B - Schematics of hypothesis and modelling pipeline. \n",
    "\n",
    "Schematics were made in illustrator.\n",
    "\n",
    "Schematics can be found at: `Figure_2\\All_panels\\Figure_2A` and `Figure_2\\All_panels\\Figure_2B`."
   ]
  },
  {
   "cell_type": "markdown",
   "id": "813da413-8a56-435f-b026-937217a44bd0",
   "metadata": {},
   "source": [
    "## Running Markov modelling pipeline.\n",
    "\n",
    "The modelling was performed using a jax deep learning framework specified in `markov_simulator_dynamic_14March23_Jax_deep.py`.  \n",
    "\n",
    "**Quick Start:**\n",
    "\n",
    " - To run the modelling pipeline requires a `data` folder containing cell fate measurements `proportions.csv` and signalling conditions.  \n",
    "\n",
    " - Results are saved to a `results` folder. \n",
    "\n",
    " - Hypothesis of potential topologies is contained within a `Hypothesis.csv` folder.\n",
    "\n",
    " - This is contained within an overal simulation folder e.g. `DRonly` (Dose response only fitting).\n",
    " \n",
    " - Running `Create_Bash.ipynb` generates a series of bash files containing parameters for all models. \n",
    " \n",
    " - Key parameters to adjust are `proportion_weight` and `switching_weight` adjusted to contribution of two datasets (e.g. `\"proportion_weight\":1`)\n",
    " \n",
    " - `Launch.sh` is used to launch hypothesis files e.g. (`H0.sh`) to HPC cluster.\n"
   ]
  },
  {
   "cell_type": "markdown",
   "id": "5547027c-03aa-44d5-b3b1-680157a7eb6a",
   "metadata": {},
   "source": [
    "## Import modelling data "
   ]
  },
  {
   "cell_type": "markdown",
   "id": "37febf40-3bfc-440b-81b0-8186eddeb860",
   "metadata": {},
   "source": [
    "Importing all modelling data for generating plots in Figure 2."
   ]
  },
  {
   "cell_type": "code",
   "execution_count": 6,
   "id": "ae86466b-a8bc-41f4-977b-891acd7cc7f8",
   "metadata": {},
   "outputs": [],
   "source": [
    "results = glob.glob(os.path.join(\"Figure_2C-G_S2B-H_AllModelling/DRonly/results/*\"))\n",
    "\n",
    "df = PF.import_modelling_residuals(results)\n",
    "\n",
    "###################################################################\n",
    "### Select best fits for each topology across initialisations #####\n",
    "###################################################################\n",
    "\n",
    "df_best = PF.select_best_residuals(df)\n",
    "\n",
    "#############################################################################\n",
    "### Import hypothesis and calculate number of parameters for correction #####\n",
    "#############################################################################\n",
    "\n",
    "hypo_ = pd.read_csv(\"Figure_2C-G_S2B-H_AllModelling/DRonly/Hypothesis.csv\")\n",
    "hypo_['hyp'] = hypo_['Topology_Name']\n",
    "hypo = hypo_[['Topology_number', 'hyp','Convergence_dir']]\n",
    "\n",
    "hypo_['par_num'] = [len(i)*5 for i in hypo_['Transitions'].str.split(',')]\n",
    "num_params_dict = dict(zip(hypo_['hyp'], hypo_['par_num']))"
   ]
  },
  {
   "cell_type": "markdown",
   "id": "c4e68467-791f-4371-8649-19c1a376f3a2",
   "metadata": {},
   "source": [
    "## Calculate Akaike information criterion (AIC) \n",
    "\n",
    "AIC is calculated as: `2 * num_params + num_observations * np.log(rss / num_observations)`\n",
    "\n"
   ]
  },
  {
   "cell_type": "code",
   "execution_count": 7,
   "id": "a82234b1-66a0-4687-9edb-b775eaef469a",
   "metadata": {},
   "outputs": [],
   "source": [
    "# Group by model hypothesis and calculate AIC for each model\n",
    "aic_results = []\n",
    "\n",
    "for hyp, group in df_best.groupby('hyp'):\n",
    "    rss = group['residual'].values\n",
    "    num_observations = 25\n",
    "    num_params = num_params_dict.get(hyp, None)  # Get number of parameters for the model hypothesis\n",
    "\n",
    "    if num_params is not None:\n",
    "        aic_value = PF.calculate_aic(rss, num_params, num_observations)\n",
    "        aic_results.append({'hyp': hyp, 'AIC': aic_value[0], 'N_params': num_params})\n",
    "\n",
    "# Convert results to DataFrame for easy viewing\n",
    "aic_df = pd.DataFrame(aic_results)\n",
    "\n",
    "aic_df[\"Topology_Name\"] = aic_df[\"hyp\"]\n",
    "df_best[\"Topology_Name\"] = df_best[\"hyp\"]\n",
    "\n",
    "df_best = df_best[['Topology_Name','residual']].merge(aic_df, on='Topology_Name', how='left')\n",
    "df_best = hypo_[['Topology_Name','Topology_number']].merge(df_best, on='Topology_Name', how='left')\n",
    "\n",
    "# Removing 'T' from each element\n",
    "stripped_list = [item.lstrip('T') for item in df_best['Topology_number']]\n",
    "number_list = [int(num) for num in stripped_list]\n",
    "\n",
    "df_best['Topology_num'] = number_list\n",
    "\n",
    "df_best = df_best.loc[df_best['Topology_num']<=38]"
   ]
  },
  {
   "cell_type": "markdown",
   "id": "f4918dca-a55a-4567-ac40-95eadd77fe70",
   "metadata": {},
   "source": [
    "## Figure 2C - Ranking best fits by AIC:"
   ]
  },
  {
   "cell_type": "code",
   "execution_count": 11,
   "id": "404a62c7-22e2-4ca5-83b7-ec4d667825f0",
   "metadata": {},
   "outputs": [
    {
     "data": {
      "text/plain": [
       "Text(0, 0.5, 'AIC')"
      ]
     },
     "execution_count": 11,
     "metadata": {},
     "output_type": "execute_result"
    },
    {
     "data": {
      "image/png": "[encoded data removed]",
      "text/plain": [
       "<Figure size 800x200 with 1 Axes>"
      ]
     },
     "metadata": {
      "needs_background": "light"
     },
     "output_type": "display_data"
    }
   ],
   "source": [
    "df_best = df_best.sort_values('AIC', ascending=False)\n",
    "df_best['hit'] = 'not hit'\n",
    "# Set last 5 rows to \"hit\"\n",
    "df_best.loc[df_best.tail(5).index, 'hit'] = 'hit'\n",
    "\n",
    "plt.figure(figsize=(8,2), dpi=100)\n",
    "ax=sns.stripplot(data=df_best, x='Topology_number', y='AIC', edgecolor = \"white\", hue='hit',\n",
    "size = 8, jitter = 0, zorder = 1, alpha=1, order=list(df_best['Topology_number']), palette=[ingeo_colours[6],'#00A651'])\n",
    "\n",
    "plt.xticks(rotation=90)\n",
    "plt.title(\"Best Fit - Dose Response (n=1000 initialisations)\\n38 Topologies\")\n",
    "\n",
    "plt.legend().remove()\n",
    "plt.xlabel(\"Topology #\")\n",
    "plt.ylabel(\"AIC\")\n",
    "#plt.savefig(\"residuals_AIC.pdf\")"
   ]
  },
  {
   "cell_type": "markdown",
   "id": "4fc1be30-f19c-4d33-a1db-592bb7c7d935",
   "metadata": {},
   "source": [
    "## Figure 2D - Simulations of top topologies (T1, T5 and T6):"
   ]
  },
  {
   "cell_type": "markdown",
   "id": "9df9b86d-f2b5-46b5-9d91-2c186b288293",
   "metadata": {},
   "source": [
    "Plotting individual topology simulations.\n",
    "\n",
    "Final panels for these data can be found in `Figure_2\\All_panels\\Figure_2D` including drawings of topologies."
   ]
  },
  {
   "cell_type": "markdown",
   "id": "06fc618c-abbf-4c4b-901b-7716f5e6ef93",
   "metadata": {},
   "source": [
    "Code chunk for saving multiple heatmaps at once can be found in `Figure_2_Plotting_functions.py`"
   ]
  },
  {
   "cell_type": "markdown",
   "id": "5b336f96-6c6c-43c0-9392-26aa5cc0c3e5",
   "metadata": {},
   "source": [
    "N.B. \"ME\" states were revised to \"I\" for intermediate in final manuscript."
   ]
  },
  {
   "cell_type": "markdown",
   "id": "6035fcbd-4d4e-4ee2-a4da-50b78cd426da",
   "metadata": {},
   "source": [
    "#### Topology 1"
   ]
  },
  {
   "cell_type": "code",
   "execution_count": 12,
   "id": "aaaa5658-7c26-4e5c-81f4-3e6cd178d4a4",
   "metadata": {},
   "outputs": [
    {
     "data": {
      "image/png": "[encoded data removed]",
      "text/plain": [
       "<Figure size 432x288 with 6 Axes>"
      ]
     },
     "metadata": {
      "needs_background": "light"
     },
     "output_type": "display_data"
    }
   ],
   "source": [
    "top = 'T1'\n",
    "data_path = 'Figure_2C-G_S2B-H_AllModelling/DRonly'\n",
    "\n",
    "PF.plotting_modelling_heatmaps(top, hypo_, data_path)\n"
   ]
  },
  {
   "cell_type": "code",
   "execution_count": 13,
   "id": "d964129f-2e50-411e-a078-88452eb0747a",
   "metadata": {},
   "outputs": [
    {
     "data": {
      "image/png": "[encoded data removed]",
      "text/plain": [
       "<Figure size 200x210 with 1 Axes>"
      ]
     },
     "metadata": {},
     "output_type": "display_data"
    }
   ],
   "source": [
    "connection_styles = [\"arc3,rad=0.3\", \"arc3,rad=-0\",\"arc3,rad=-0.3\"]\n",
    "PF.plot_topology_network(hypo_, top, connection_styles)"
   ]
  },
  {
   "cell_type": "markdown",
   "id": "c7e074d4-5b51-4b5e-860c-37543977a12b",
   "metadata": {},
   "source": [
    "#### Topology 5"
   ]
  },
  {
   "cell_type": "code",
   "execution_count": 14,
   "id": "5189169a-e714-4955-b725-3f177b35e680",
   "metadata": {},
   "outputs": [
    {
     "data": {
      "image/png": "[encoded data removed]",
      "text/plain": [
       "<Figure size 432x288 with 6 Axes>"
      ]
     },
     "metadata": {
      "needs_background": "light"
     },
     "output_type": "display_data"
    }
   ],
   "source": [
    "top = 'T5'\n",
    "data_path = 'Figure_2C-G_S2B-H_AllModelling/DRonly'\n",
    "\n",
    "PF.plotting_modelling_heatmaps(top, hypo_, data_path)\n"
   ]
  },
  {
   "cell_type": "code",
   "execution_count": 15,
   "id": "816a50af-6ce8-49ba-83cb-b3fa2218858b",
   "metadata": {},
   "outputs": [
    {
     "data": {
      "image/png": "[encoded data removed]",
      "text/plain": [
       "<Figure size 200x210 with 1 Axes>"
      ]
     },
     "metadata": {},
     "output_type": "display_data"
    }
   ],
   "source": [
    "connection_styles = [\"arc3,rad=0\", \"arc3,rad=-0.3\",\"arc3,rad=0.3\",\"arc3,rad=0\"]\n",
    "PF.plot_topology_network(hypo_, top, connection_styles)"
   ]
  },
  {
   "cell_type": "markdown",
   "id": "377f2609-4ca3-43e0-b53e-57831a257b52",
   "metadata": {},
   "source": [
    "#### Topology 6"
   ]
  },
  {
   "cell_type": "code",
   "execution_count": 16,
   "id": "ad51322b-abf5-43b0-baa9-f8f2c6c93fc0",
   "metadata": {},
   "outputs": [
    {
     "data": {
      "image/png": "[encoded data removed]",
      "text/plain": [
       "<Figure size 432x288 with 6 Axes>"
      ]
     },
     "metadata": {
      "needs_background": "light"
     },
     "output_type": "display_data"
    }
   ],
   "source": [
    "top = 'T6'\n",
    "data_path = 'Figure_2C-G_S2B-H_AllModelling/DRonly'\n",
    "\n",
    "PF.plotting_modelling_heatmaps(top, hypo_, data_path)\n"
   ]
  },
  {
   "cell_type": "code",
   "execution_count": 17,
   "id": "1c0b0e83-12d4-46a2-8474-c9f866b9f612",
   "metadata": {},
   "outputs": [
    {
     "data": {
      "image/png": "[encoded data removed]",
      "text/plain": [
       "<Figure size 200x210 with 1 Axes>"
      ]
     },
     "metadata": {},
     "output_type": "display_data"
    }
   ],
   "source": [
    "PF.plot_topology_network(hypo_, top, connection_styles)"
   ]
  },
  {
   "cell_type": "markdown",
   "id": "e914e88a-5343-43a8-9068-c547803d291c",
   "metadata": {},
   "source": [
    "## Figure 2E - Validation of topologies with switching data:"
   ]
  },
  {
   "cell_type": "markdown",
   "id": "7732dffb-13d2-484b-9f8b-be62859bac6e",
   "metadata": {},
   "source": [
    "To validate topologies from dose response fits we simulate switching responses for all topologies and then score again using AIC based on observed measurements. This allows us to assess the predictive power of each model.\n",
    "\n",
    "Details of the validation function can be found in `Figure_2_functions`"
   ]
  },
  {
   "cell_type": "markdown",
   "id": "43928b66-ad75-445a-9bd9-485b79f05566",
   "metadata": {},
   "source": [
    "#### Dynamic simulations:"
   ]
  },
  {
   "cell_type": "code",
   "execution_count": 18,
   "id": "6241d8a0-65a1-4ba1-84af-9f44e3959eeb",
   "metadata": {},
   "outputs": [],
   "source": [
    "df_best = df_best.reset_index()"
   ]
  },
  {
   "cell_type": "code",
   "execution_count": 19,
   "id": "1600f680-f765-4467-927e-bdba996c34f4",
   "metadata": {},
   "outputs": [
    {
     "name": "stderr",
     "output_type": "stream",
     "text": [
      "Processing simulations: 100%|██████████| 38/38 [01:27<00:00,  2.31s/it]\n"
     ]
    }
   ],
   "source": [
    "cost_dynamic_list = PF.validation_dynamic_simulation(df_best, \"Figure_2C-G_S2B-H_AllModelling/DRonly/\")"
   ]
  },
  {
   "cell_type": "code",
   "execution_count": 20,
   "id": "d569ec7d-68fa-4e14-8524-5236f5a2600a",
   "metadata": {},
   "outputs": [],
   "source": [
    "df_best['residual_dynamic'] = cost_dynamic_list\n",
    "order = df_best.sort_values('residual_dynamic')['Topology_number']\n",
    "df_best = df_best.sort_values('residual_dynamic', ascending=False)\n",
    "df_best = df_best.reset_index()\n",
    "df_best_hit = df_best.loc[df_best['hit']=='hit']"
   ]
  },
  {
   "cell_type": "markdown",
   "id": "923536b2-3ff7-4e67-a2bd-ea245357e979",
   "metadata": {},
   "source": [
    "#### AIC calculations:"
   ]
  },
  {
   "cell_type": "code",
   "execution_count": 21,
   "id": "f9a2bc5e-d7b4-4ac7-b3ac-326b010a9d90",
   "metadata": {},
   "outputs": [],
   "source": [
    "# Group by model hypothesis and calculate AIC for each model\n",
    "aic_results = []\n",
    "\n",
    "for hyp, group in df_best.groupby('hyp'):\n",
    "    rss = group['residual_dynamic'].values\n",
    "    num_observations = 33\n",
    "    num_params = num_params_dict.get(hyp, None)  # Get number of parameters for the model hypothesis\n",
    "\n",
    "    if num_params is not None:\n",
    "        aic_value = PF.calculate_aic(rss, num_params, num_observations)\n",
    "        aic_results.append({'Topology_Name': hyp, 'AIC_dynamic': aic_value[0], 'N_params': num_params})\n",
    "\n",
    "# Convert results to DataFrame for easy viewing\n",
    "aic_df_dynamic = pd.DataFrame(aic_results)"
   ]
  },
  {
   "cell_type": "code",
   "execution_count": 22,
   "id": "46b9406a-d602-4fa4-ab58-3a7de7d99dd1",
   "metadata": {},
   "outputs": [
    {
     "name": "stderr",
     "output_type": "stream",
     "text": [
      "<ipython-input-22-e00a01aad1ee>:10: FutureWarning: \n",
      "\n",
      "Passing `palette` without assigning `hue` is deprecated and will be removed in v0.14.0. Assign the `x` variable to `hue` and set `legend=False` for the same effect.\n",
      "\n",
      "  ax=sns.stripplot(data=df_best_hit, x='Topology_number', y='AIC_dynamic' , size = 12,\n",
      "No artists with labels found to put in legend.  Note that artists whose label start with an underscore are ignored when legend() is called with no argument.\n"
     ]
    },
    {
     "data": {
      "text/plain": [
       "Text(0, 0.5, 'AIC')"
      ]
     },
     "execution_count": 22,
     "metadata": {},
     "output_type": "execute_result"
    },
    {
     "data": {
      "image/png": "[encoded data removed]",
      "text/plain": [
       "<Figure size 200x200 with 1 Axes>"
      ]
     },
     "metadata": {
      "needs_background": "light"
     },
     "output_type": "display_data"
    }
   ],
   "source": [
    "df_best = df_best.merge(aic_df_dynamic, on='Topology_Name', how='left')\n",
    "df_best = df_best.sort_values([\"AIC_dynamic\"], ascending=False)\n",
    "df_best_hit = df_best.loc[df_best['hit']=='hit']\n",
    "plt.figure(figsize=(2,2), dpi=100)\n",
    "\n",
    "\n",
    "sns.set_theme(style=\"ticks\")\n",
    "## Stripplot and Boxplot\n",
    "\n",
    "ax=sns.stripplot(data=df_best_hit, x='Topology_number', y='AIC_dynamic' , size = 12, \n",
    "                palette=[ingeo_colours[6],ingeo_colours[6],ingeo_colours[6],ingeo_colours[6],'#00A651']).set(ylim=(-139,-81))\n",
    "plt.xticks(rotation=90)\n",
    "plt.legend().remove()\n",
    "plt.xlabel(\"Topology #\")\n",
    "plt.ylabel(\"AIC\")\n"
   ]
  },
  {
   "cell_type": "markdown",
   "id": "1432faed-fd0a-46e0-bec4-fce44e136a55",
   "metadata": {},
   "source": [
    "## Figure 2F - Simulation of switching data "
   ]
  },
  {
   "cell_type": "markdown",
   "id": "047fd1ec-c8b6-4131-9203-3f815ec09b5a",
   "metadata": {},
   "source": [
    "For top topology T6 switching proportions are simulated."
   ]
  },
  {
   "cell_type": "code",
   "execution_count": null,
   "id": "e662cec3-387d-48d8-a5d4-41277321026e",
   "metadata": {},
   "outputs": [],
   "source": [
    "top = 'T6'\n",
    "\n",
    "sim = list(hypo_.loc[hypo_[\"Topology_number\"]==top]['Topology_Name'])[0]\n",
    "d = pd.read_csv(glob.glob(os.path.join('Figure_2C-G_S2B-H_Modelling_fits/DRandS/results', sim,'*',\"results/residuals.csv\"))[0]).sort_values(\"residual\")\n",
    "d['hyp'] = sim\n",
    "print(sim)\n",
    "d = d.reset_index()\n",
    "k = d.loc[0]['index']\n"
   ]
  },
  {
   "cell_type": "markdown",
   "id": "3b46bf38-bd21-4f41-936f-ec488b51e6b8",
   "metadata": {},
   "source": [
    "#### Individual dynamic simulations with proportions:"
   ]
  },
  {
   "cell_type": "code",
   "execution_count": null,
   "id": "1a4b18cb-1edb-4da6-9320-94cac3371825",
   "metadata": {},
   "outputs": [],
   "source": [
    "##########################\n",
    "### Simulate switching ###\n",
    "##########################\n",
    "\n",
    "chosen_initialisation_index = k\n",
    "sP = markov_fit.sP_opts[chosen_initialisation_index]\n",
    "\n",
    "signalling_parameters = sP.reshape(5,-1)\n",
    "#signalling_parameters = np.zeros((5,_signalling_parameters.shape[1]))\n",
    "#signalling_parameters[:3] = _signalling_parameters[:3]\n",
    "#signalling_parameters[4] = _signalling_parameters[3]\n",
    "mrkvS = markov_fit.mrkvSs[chosen_initialisation_index]\n",
    "mrkvS.signalling_parameters = signalling_parameters\n",
    "mrkvS.make_transition_matrices()\n",
    "mrkvS.make_transition_matrices_dynamic()\n",
    "\n",
    "mrkvS.simulate()\n",
    "mrkvS.simulate_dynamic()\n",
    "\n",
    "s_solve_dynamic = mrkvS.s_solve_dynamic.reshape(mrkvS.s_solve_dynamic.shape[0],mrkvS.D_init.shape[0],-1)\n",
    "s_solve = mrkvS.s_solve.reshape(mrkvS.s_solve.shape[0],mrkvS.D.shape[0],-1)\n",
    "\n",
    "total_proportions = {}\n",
    "for data_name in markov_fit.data_names:\n",
    "    total_proportions[data_name] = np.zeros_like(mrkvS.final_vals[0])\n",
    "for state_name in markov_fit.state_names:\n",
    "    total_proportions[markov_fit.dictionary[state_name]] += mrkvS.final_vals[mrkvS.markov.states.index(state_name)]\n",
    "\n",
    "total_proportions_dynamic = {}\n",
    "for data_name in markov_fit.data_names:\n",
    "    total_proportions_dynamic[data_name] = np.zeros_like(mrkvS.final_vals_dynamic[0])\n",
    "for state_name in markov_fit.state_names:\n",
    "    total_proportions_dynamic[markov_fit.dictionary[state_name]] += mrkvS.final_vals_dynamic[\n",
    "        mrkvS.markov.states.index(state_name)]\n",
    "\n",
    "cost_dynamic = 0\n",
    "for key, val in total_proportions_dynamic.items():\n",
    "    cost_dynamic += (np.abs(val - markov_fit.df_dynamic[key].values / 100) ** 2).sum()\n",
    "    \n",
    "print(cost_dynamic)\n",
    "\n",
    "##########################\n",
    "### Structure sim data ###\n",
    "##########################\n",
    "\n",
    "sim_data = pd.DataFrame({'A':s_solve_dynamic[-1,:][:,0]*100,\n",
    "                   'E':s_solve_dynamic[-1,:][:,1]*100,\n",
    "                   'M':s_solve_dynamic[-1,:][:,2]*100,\n",
    "                    'N' :np.sum(s_solve_dynamic[-1,:][:,3:], axis=1)*100,\n",
    "                    'a_init': list(mrkvS.dynamic_signalling_params['a_init'][:]),\n",
    "                    'b_init': list(mrkvS.dynamic_signalling_params['b_init'][:]),\n",
    "                    'a_fin': list(mrkvS.dynamic_signalling_params['a_fin'][:]),\n",
    "                    'b_fin': list(mrkvS.dynamic_signalling_params['b_fin'][:]),\n",
    "                    't_change': list(mrkvS.dynamic_signalling_params['t_change'][:])}\n",
    "                 )\n",
    "\n",
    "sim_data['t_change'] = sim_data['t_change']*24\n",
    "sim_data['t_change'] = sim_data['t_change'].astype(int)\n",
    "sim_data.loc[(sim_data.index==0), 't_change'] = 'S'\n",
    "sim_data.loc[(sim_data.index==4), 't_change'] = 'S'\n",
    "sim_data.loc[(sim_data.index==8), 't_change'] = 'U'\n",
    "\n",
    "sim_data['Condition'] = \"A\" + sim_data['a_init'].astype(str) + \"_\" + \"B\" + sim_data['b_init'].astype(str) +\"_\"+ sim_data['t_change'].astype(str)\n",
    "\n",
    "###########################\n",
    "### Structure real data ###\n",
    "###########################\n",
    "\n",
    "data = pd.read_csv(\"Figure_2C-G_S2B-H_Modelling_fits/DRandS/data/switching_data.csv\")\n",
    "data['N'] = 100 - (data['M'] + data['A'] + data['E'])\n",
    "\n",
    "data['t_change'] = data['t_change']*24\n",
    "data['t_change'] = data['t_change'].astype(int)\n",
    "\n",
    "data.loc[(data.index==0), 't_change'] = 'S'\n",
    "data.loc[(data.index==4), 't_change'] = 'S'\n",
    "data.loc[(data.index==8), 't_change'] = 'U'\n",
    "\n",
    "data['Condition'] = \"A\" + data['a_init'].astype(str) + \"_\" + \"B\" + data['b_init'].astype(str) +\"_\"+ data['t_change'].astype(str)"
   ]
  },
  {
   "cell_type": "markdown",
   "id": "8938942d-d519-475f-9f8b-14b1cbb46bbd",
   "metadata": {},
   "source": [
    "#### Activin to BM:"
   ]
  },
  {
   "cell_type": "code",
   "execution_count": null,
   "id": "5298cb65-4c59-4f4c-a72d-39b902c51fc3",
   "metadata": {},
   "outputs": [],
   "source": []
  },
  {
   "cell_type": "code",
   "execution_count": 124,
   "id": "bd422611-45a0-4d29-ac44-24b9c58fdbb4",
   "metadata": {},
   "outputs": [
    {
     "data": {
      "text/plain": [
       "Text(0.5, 1.0, 'Activin to BMP4')"
      ]
     },
     "execution_count": 124,
     "metadata": {},
     "output_type": "execute_result"
    },
    {
     "data": {
      "image/png": "[encoded data removed]",
      "text/plain": [
       "<Figure size 144x144 with 1 Axes>"
      ]
     },
     "metadata": {},
     "output_type": "display_data"
    }
   ],
   "source": [
    "selection = [\"A0_B0_U\", \"A100_B10_6\",\"A100_B10_24\",\"A100_B10_48\",\"A100_B10_S\"]\n",
    "\n",
    "sim_data_sub = sim_data.loc[sim_data['Condition'].isin(selection)]\n",
    "df = sim_data_sub[[\"Condition\",\"A\",\"E\",\"M\",\"N\"]]\n",
    "order= selection\n",
    "\n",
    "df = df.loc[df['Condition'].isin(order)]\n",
    "df = df.set_index(\"Condition\").loc[order]\n",
    "df_means = df.groupby(\"Condition\").mean()\n",
    "df_means = df_means.reset_index()\n",
    "df_means = df_means.set_index('Condition').loc[order]\n",
    "\n",
    "with sns.plotting_context(\"notebook\", font_scale=0.8):\n",
    "    PF.create_stack_bar_plot(\n",
    "        df_means,\n",
    "        x_figSize=2,\n",
    "        y_figSize=2,\n",
    "        color_pal=[ingeo_colours[2], ingeo_colours[0], ingeo_colours[4], ingeo_colours[6]],\n",
    "        bar_width=0.8,\n",
    "        y_label=\"% cell type per condition\",\n",
    "        x_label=\"Switching time (hrs)\"\n",
    "    )\n",
    "    \n",
    "##Adjustments\n",
    "\n",
    "plt.ylim(0,100)\n",
    "plt.title( \"Activin to BMP4\", fontsize=10)"
   ]
  },
  {
   "cell_type": "code",
   "execution_count": null,
   "id": "0eefaefc-4a6d-4813-8650-a2bda9fd5ee6",
   "metadata": {},
   "outputs": [],
   "source": []
  }
 ],
 "metadata": {
  "kernelspec": {
   "display_name": "Python 3",
   "language": "python",
   "name": "python3"
  },
  "language_info": {
   "codemirror_mode": {
    "name": "ipython",
    "version": 3
   },
   "file_extension": ".py",
   "mimetype": "text/x-python",
   "name": "python",
   "nbconvert_exporter": "python",
   "pygments_lexer": "ipython3",
   "version": "3.9.18"
  }
 },
 "nbformat": 4,
 "nbformat_minor": 5
}
